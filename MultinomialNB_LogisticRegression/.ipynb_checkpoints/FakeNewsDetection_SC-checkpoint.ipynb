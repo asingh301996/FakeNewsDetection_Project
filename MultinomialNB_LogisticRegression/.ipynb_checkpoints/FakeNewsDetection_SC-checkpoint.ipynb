{
 "cells": [
  {
   "cell_type": "code",
   "execution_count": 1,
   "id": "50df9036",
   "metadata": {},
   "outputs": [],
   "source": [
    "import pandas as pd\n",
    "import numpy as np\n",
    "import nltk, re, string, collections\n",
    "from nltk.util import ngrams\n",
    "from nltk.tokenize import word_tokenize\n",
    "from nltk.corpus import stopwords\n",
    "import string\n",
    "from nltk.stem import WordNetLemmatizer "
   ]
  },
  {
   "cell_type": "code",
   "execution_count": 2,
   "id": "c47f5d0c",
   "metadata": {},
   "outputs": [
    {
     "name": "stdout",
     "output_type": "stream",
     "text": [
      "(256442, 6)\n"
     ]
    },
    {
     "data": {
      "text/html": [
       "<div>\n",
       "<style scoped>\n",
       "    .dataframe tbody tr th:only-of-type {\n",
       "        vertical-align: middle;\n",
       "    }\n",
       "\n",
       "    .dataframe tbody tr th {\n",
       "        vertical-align: top;\n",
       "    }\n",
       "\n",
       "    .dataframe thead th {\n",
       "        text-align: right;\n",
       "    }\n",
       "</style>\n",
       "<table border=\"1\" class=\"dataframe\">\n",
       "  <thead>\n",
       "    <tr style=\"text-align: right;\">\n",
       "      <th></th>\n",
       "      <th>id</th>\n",
       "      <th>tid1</th>\n",
       "      <th>tid2</th>\n",
       "      <th>title1_en</th>\n",
       "      <th>title2_en</th>\n",
       "      <th>label</th>\n",
       "    </tr>\n",
       "  </thead>\n",
       "  <tbody>\n",
       "    <tr>\n",
       "      <th>0</th>\n",
       "      <td>195611</td>\n",
       "      <td>0</td>\n",
       "      <td>1</td>\n",
       "      <td>There are two new old-age insurance benefits f...</td>\n",
       "      <td>Police disprove \"bird's nest congress each per...</td>\n",
       "      <td>unrelated</td>\n",
       "    </tr>\n",
       "    <tr>\n",
       "      <th>1</th>\n",
       "      <td>191474</td>\n",
       "      <td>2</td>\n",
       "      <td>3</td>\n",
       "      <td>\"If you do not come to Shenzhen, sooner or lat...</td>\n",
       "      <td>Shenzhen's GDP outstrips Hong Kong? Shenzhen S...</td>\n",
       "      <td>unrelated</td>\n",
       "    </tr>\n",
       "    <tr>\n",
       "      <th>2</th>\n",
       "      <td>25300</td>\n",
       "      <td>2</td>\n",
       "      <td>4</td>\n",
       "      <td>\"If you do not come to Shenzhen, sooner or lat...</td>\n",
       "      <td>The GDP overtopped Hong Kong? Shenzhen clarifi...</td>\n",
       "      <td>unrelated</td>\n",
       "    </tr>\n",
       "    <tr>\n",
       "      <th>3</th>\n",
       "      <td>123757</td>\n",
       "      <td>2</td>\n",
       "      <td>8</td>\n",
       "      <td>\"If you do not come to Shenzhen, sooner or lat...</td>\n",
       "      <td>Shenzhen's GDP overtakes Hong Kong? Bureau of ...</td>\n",
       "      <td>unrelated</td>\n",
       "    </tr>\n",
       "    <tr>\n",
       "      <th>4</th>\n",
       "      <td>141761</td>\n",
       "      <td>2</td>\n",
       "      <td>11</td>\n",
       "      <td>\"If you do not come to Shenzhen, sooner or lat...</td>\n",
       "      <td>Shenzhen's GDP outpaces Hong Kong? Defending R...</td>\n",
       "      <td>unrelated</td>\n",
       "    </tr>\n",
       "  </tbody>\n",
       "</table>\n",
       "</div>"
      ],
      "text/plain": [
       "       id  tid1  tid2                                          title1_en  \\\n",
       "0  195611     0     1  There are two new old-age insurance benefits f...   \n",
       "1  191474     2     3  \"If you do not come to Shenzhen, sooner or lat...   \n",
       "2   25300     2     4  \"If you do not come to Shenzhen, sooner or lat...   \n",
       "3  123757     2     8  \"If you do not come to Shenzhen, sooner or lat...   \n",
       "4  141761     2    11  \"If you do not come to Shenzhen, sooner or lat...   \n",
       "\n",
       "                                           title2_en      label  \n",
       "0  Police disprove \"bird's nest congress each per...  unrelated  \n",
       "1  Shenzhen's GDP outstrips Hong Kong? Shenzhen S...  unrelated  \n",
       "2  The GDP overtopped Hong Kong? Shenzhen clarifi...  unrelated  \n",
       "3  Shenzhen's GDP overtakes Hong Kong? Bureau of ...  unrelated  \n",
       "4  Shenzhen's GDP outpaces Hong Kong? Defending R...  unrelated  "
      ]
     },
     "execution_count": 2,
     "metadata": {},
     "output_type": "execute_result"
    }
   ],
   "source": [
    "#Data retrieving from the given inputs\n",
    "train = pd.read_csv('train.csv')\n",
    "train = train.dropna()\n",
    "print(train.shape)\n",
    "train.head()\n"
   ]
  },
  {
   "cell_type": "code",
   "execution_count": 3,
   "id": "c964aeee",
   "metadata": {},
   "outputs": [
    {
     "name": "stdout",
     "output_type": "stream",
     "text": [
      "(64110, 5)\n"
     ]
    },
    {
     "data": {
      "text/html": [
       "<div>\n",
       "<style scoped>\n",
       "    .dataframe tbody tr th:only-of-type {\n",
       "        vertical-align: middle;\n",
       "    }\n",
       "\n",
       "    .dataframe tbody tr th {\n",
       "        vertical-align: top;\n",
       "    }\n",
       "\n",
       "    .dataframe thead th {\n",
       "        text-align: right;\n",
       "    }\n",
       "</style>\n",
       "<table border=\"1\" class=\"dataframe\">\n",
       "  <thead>\n",
       "    <tr style=\"text-align: right;\">\n",
       "      <th></th>\n",
       "      <th>id</th>\n",
       "      <th>tid1</th>\n",
       "      <th>tid2</th>\n",
       "      <th>title1_en</th>\n",
       "      <th>title2_en</th>\n",
       "    </tr>\n",
       "  </thead>\n",
       "  <tbody>\n",
       "    <tr>\n",
       "      <th>0</th>\n",
       "      <td>256442</td>\n",
       "      <td>100672</td>\n",
       "      <td>100673</td>\n",
       "      <td>The great coat brother Zhu Zhu Wen, in the man...</td>\n",
       "      <td>Lin xinsheng after the birth of \"hard milking,...</td>\n",
       "    </tr>\n",
       "    <tr>\n",
       "      <th>1</th>\n",
       "      <td>256443</td>\n",
       "      <td>162269</td>\n",
       "      <td>162270</td>\n",
       "      <td>NASA reveals facts about UFO wreckage found on...</td>\n",
       "      <td>The UFO found in Yuancun, Jiaocheng County, Sh...</td>\n",
       "    </tr>\n",
       "    <tr>\n",
       "      <th>2</th>\n",
       "      <td>256444</td>\n",
       "      <td>157826</td>\n",
       "      <td>157854</td>\n",
       "      <td>The hollow tomatoes are loaded with hormones.</td>\n",
       "      <td>Li chenfan bingbing home photos, netizen: this...</td>\n",
       "    </tr>\n",
       "    <tr>\n",
       "      <th>3</th>\n",
       "      <td>256445</td>\n",
       "      <td>109579</td>\n",
       "      <td>74076</td>\n",
       "      <td>Ange Pavilion Geoshui: How accurate is Matrimo...</td>\n",
       "      <td>Master one: the eight-character presumption of...</td>\n",
       "    </tr>\n",
       "    <tr>\n",
       "      <th>4</th>\n",
       "      <td>256446</td>\n",
       "      <td>15068</td>\n",
       "      <td>15085</td>\n",
       "      <td>A 50-year-old bus-bus blows up an 8-year-old c...</td>\n",
       "      <td>&lt; i &gt; Joe Johnson's disgruntled timing and ord...</td>\n",
       "    </tr>\n",
       "  </tbody>\n",
       "</table>\n",
       "</div>"
      ],
      "text/plain": [
       "       id    tid1    tid2                                          title1_en  \\\n",
       "0  256442  100672  100673  The great coat brother Zhu Zhu Wen, in the man...   \n",
       "1  256443  162269  162270  NASA reveals facts about UFO wreckage found on...   \n",
       "2  256444  157826  157854      The hollow tomatoes are loaded with hormones.   \n",
       "3  256445  109579   74076  Ange Pavilion Geoshui: How accurate is Matrimo...   \n",
       "4  256446   15068   15085  A 50-year-old bus-bus blows up an 8-year-old c...   \n",
       "\n",
       "                                           title2_en  \n",
       "0  Lin xinsheng after the birth of \"hard milking,...  \n",
       "1  The UFO found in Yuancun, Jiaocheng County, Sh...  \n",
       "2  Li chenfan bingbing home photos, netizen: this...  \n",
       "3  Master one: the eight-character presumption of...  \n",
       "4  < i > Joe Johnson's disgruntled timing and ord...  "
      ]
     },
     "execution_count": 3,
     "metadata": {},
     "output_type": "execute_result"
    }
   ],
   "source": [
    "test = pd.read_csv('test.csv')\n",
    "test.shape\n",
    "test = test.dropna()\n",
    "print(test.shape)\n",
    "test.head()"
   ]
  },
  {
   "cell_type": "code",
   "execution_count": 4,
   "id": "3f6e0c96",
   "metadata": {},
   "outputs": [],
   "source": [
    "lemmatizer = WordNetLemmatizer()\n",
    "\n",
    "\n",
    "def preprocessor(line):\n",
    "    line = line.lower()\n",
    "    line = re.sub('[^\\w\\s]',\" \",str(line)) \n",
    "    line = re.sub('[^a-zA-Z0-9]',\" \",str(line)) \n",
    "    line = word_tokenize(line)\n",
    "\n",
    "    final = ' '\n",
    "\n",
    "    for i in line:\n",
    "        if(i not in stopwords.words('english')):\n",
    "\n",
    "          char = lemmatizer.lemmatize(i)\n",
    "          #if char.isnumeric():\n",
    "          #  char = num2words(char) \n",
    "        final += i + \" \"\n",
    "    return final"
   ]
  },
  {
   "cell_type": "code",
   "execution_count": 5,
   "id": "0e854d15",
   "metadata": {},
   "outputs": [],
   "source": [
    "col1 = train['title1_en']\n",
    "col2 = train['title2_en']"
   ]
  },
  {
   "cell_type": "code",
   "execution_count": 6,
   "id": "d3fb4b23",
   "metadata": {},
   "outputs": [],
   "source": [
    "import ssl\n",
    "\n",
    "ssl._create_default_https_context = ssl._create_unverified_context"
   ]
  },
  {
   "cell_type": "code",
   "execution_count": 7,
   "id": "4aa78412",
   "metadata": {},
   "outputs": [
    {
     "name": "stdout",
     "output_type": "stream",
     "text": [
      "Requirement already satisfied: pip in /Library/Frameworks/Python.framework/Versions/3.10/lib/python3.10/site-packages (23.1.1)\n",
      "Note: you may need to restart the kernel to use updated packages.\n"
     ]
    }
   ],
   "source": [
    "pip install --upgrade pip"
   ]
  },
  {
   "cell_type": "code",
   "execution_count": 8,
   "id": "a2b7dc92",
   "metadata": {},
   "outputs": [
    {
     "name": "stdout",
     "output_type": "stream",
     "text": [
      "['/Users/ankitasingh/nltk_data', '/Library/Frameworks/Python.framework/Versions/3.10/nltk_data', '/Library/Frameworks/Python.framework/Versions/3.10/share/nltk_data', '/Library/Frameworks/Python.framework/Versions/3.10/lib/nltk_data', '/usr/share/nltk_data', '/usr/local/share/nltk_data', '/usr/lib/nltk_data', '/usr/local/lib/nltk_data']\n"
     ]
    }
   ],
   "source": [
    "import nltk\n",
    "print(nltk.data.path)"
   ]
  },
  {
   "cell_type": "code",
   "execution_count": 9,
   "id": "6758bd5e",
   "metadata": {},
   "outputs": [
    {
     "name": "stderr",
     "output_type": "stream",
     "text": [
      "[nltk_data] Downloading package punkt to\n",
      "[nltk_data]     /Users/ankitasingh/nltk_data...\n",
      "[nltk_data]   Package punkt is already up-to-date!\n",
      "[nltk_data] Downloading package stopwords to\n",
      "[nltk_data]     /Users/ankitasingh/nltk_data...\n",
      "[nltk_data]   Package stopwords is already up-to-date!\n",
      "[nltk_data] Downloading package wordnet to\n",
      "[nltk_data]     /Users/ankitasingh/nltk_data...\n",
      "[nltk_data]   Package wordnet is already up-to-date!\n"
     ]
    },
    {
     "data": {
      "text/plain": [
       "True"
      ]
     },
     "execution_count": 9,
     "metadata": {},
     "output_type": "execute_result"
    }
   ],
   "source": [
    "\n",
    "nltk.download('punkt')\n",
    "nltk.download('stopwords')\n",
    "nltk.download('wordnet')"
   ]
  },
  {
   "cell_type": "code",
   "execution_count": 10,
   "id": "16651fa7",
   "metadata": {},
   "outputs": [
    {
     "name": "stdout",
     "output_type": "stream",
     "text": [
      "0         There are two new old-age insurance benefits f...\n",
      "1         \"If you do not come to Shenzhen, sooner or lat...\n",
      "2         \"If you do not come to Shenzhen, sooner or lat...\n",
      "3         \"If you do not come to Shenzhen, sooner or lat...\n",
      "4         \"If you do not come to Shenzhen, sooner or lat...\n",
      "                                ...                        \n",
      "256437    egypt 's presidential election failed to win m...\n",
      "256438    egypt 's presidential election failed to win m...\n",
      "256439    egypt 's presidential election failed to win m...\n",
      "256440    egypt 's presidential election failed to win m...\n",
      "256441    Will the United States wage war on Iraq withou...\n",
      "Name: title1_en, Length: 256442, dtype: object\n",
      "0         Police disprove \"bird's nest congress each per...\n",
      "1         Shenzhen's GDP outstrips Hong Kong? Shenzhen S...\n",
      "2         The GDP overtopped Hong Kong? Shenzhen clarifi...\n",
      "3         Shenzhen's GDP overtakes Hong Kong? Bureau of ...\n",
      "4         Shenzhen's GDP outpaces Hong Kong? Defending R...\n",
      "                                ...                        \n",
      "256437    Salah is retiring? Football Association offici...\n",
      "256438    Liverpool's bid for Little Germany? The Echo's...\n",
      "256439    West Media Exposing Tallahlach has been recomm...\n",
      "256440    Rumor has it that Egypt is very united and the...\n",
      "256441    Saddam's daughter refutes rumors: no. 2 of Sad...\n",
      "Name: title2_en, Length: 256442, dtype: object\n"
     ]
    }
   ],
   "source": [
    "\n",
    "col1 = train['title1_en']\n",
    "col2 = train['title2_en']\n",
    "print(col1)\n",
    "\n",
    "\n",
    "print(col2)"
   ]
  },
  {
   "cell_type": "code",
   "execution_count": null,
   "id": "7bae8159",
   "metadata": {},
   "outputs": [],
   "source": [
    "prep1 = []\n",
    "for i in (range(len(col1))):\n",
    "    prep1.append(preprocessor(col1[i]))"
   ]
  },
  {
   "cell_type": "code",
   "execution_count": 54,
   "id": "4432997c",
   "metadata": {},
   "outputs": [],
   "source": [
    "prep2 = []\n",
    "for i in (range(len(col2))):\n",
    "    prep2.append(preprocessor(col2[i]))"
   ]
  },
  {
   "cell_type": "code",
   "execution_count": 56,
   "id": "d8c9d3e0",
   "metadata": {},
   "outputs": [
    {
     "data": {
      "text/html": [
       "<div>\n",
       "<style scoped>\n",
       "    .dataframe tbody tr th:only-of-type {\n",
       "        vertical-align: middle;\n",
       "    }\n",
       "\n",
       "    .dataframe tbody tr th {\n",
       "        vertical-align: top;\n",
       "    }\n",
       "\n",
       "    .dataframe thead th {\n",
       "        text-align: right;\n",
       "    }\n",
       "</style>\n",
       "<table border=\"1\" class=\"dataframe\">\n",
       "  <thead>\n",
       "    <tr style=\"text-align: right;\">\n",
       "      <th></th>\n",
       "      <th>id</th>\n",
       "      <th>t1_en</th>\n",
       "      <th>t2_en</th>\n",
       "      <th>label</th>\n",
       "    </tr>\n",
       "  </thead>\n",
       "  <tbody>\n",
       "    <tr>\n",
       "      <th>0</th>\n",
       "      <td>195611</td>\n",
       "      <td>there are two new old age insurance benefits ...</td>\n",
       "      <td>police disprove bird s nest congress each per...</td>\n",
       "      <td>unrelated</td>\n",
       "    </tr>\n",
       "    <tr>\n",
       "      <th>1</th>\n",
       "      <td>191474</td>\n",
       "      <td>if you do not come to shenzhen sooner or late...</td>\n",
       "      <td>shenzhen s gdp outstrips hong kong shenzhen s...</td>\n",
       "      <td>unrelated</td>\n",
       "    </tr>\n",
       "    <tr>\n",
       "      <th>2</th>\n",
       "      <td>25300</td>\n",
       "      <td>if you do not come to shenzhen sooner or late...</td>\n",
       "      <td>the gdp overtopped hong kong shenzhen clarifi...</td>\n",
       "      <td>unrelated</td>\n",
       "    </tr>\n",
       "    <tr>\n",
       "      <th>3</th>\n",
       "      <td>123757</td>\n",
       "      <td>if you do not come to shenzhen sooner or late...</td>\n",
       "      <td>shenzhen s gdp overtakes hong kong bureau of ...</td>\n",
       "      <td>unrelated</td>\n",
       "    </tr>\n",
       "    <tr>\n",
       "      <th>4</th>\n",
       "      <td>141761</td>\n",
       "      <td>if you do not come to shenzhen sooner or late...</td>\n",
       "      <td>shenzhen s gdp outpaces hong kong defending r...</td>\n",
       "      <td>unrelated</td>\n",
       "    </tr>\n",
       "  </tbody>\n",
       "</table>\n",
       "</div>"
      ],
      "text/plain": [
       "       id                                              t1_en  \\\n",
       "0  195611   there are two new old age insurance benefits ...   \n",
       "1  191474   if you do not come to shenzhen sooner or late...   \n",
       "2   25300   if you do not come to shenzhen sooner or late...   \n",
       "3  123757   if you do not come to shenzhen sooner or late...   \n",
       "4  141761   if you do not come to shenzhen sooner or late...   \n",
       "\n",
       "                                               t2_en      label  \n",
       "0   police disprove bird s nest congress each per...  unrelated  \n",
       "1   shenzhen s gdp outstrips hong kong shenzhen s...  unrelated  \n",
       "2   the gdp overtopped hong kong shenzhen clarifi...  unrelated  \n",
       "3   shenzhen s gdp overtakes hong kong bureau of ...  unrelated  \n",
       "4   shenzhen s gdp outpaces hong kong defending r...  unrelated  "
      ]
     },
     "execution_count": 56,
     "metadata": {},
     "output_type": "execute_result"
    }
   ],
   "source": [
    "# Create processed dataset \n",
    "\n",
    "training_set = pd.DataFrame()\n",
    "training_set['id'] = train['id']\n",
    "training_set['t1_en'] = prep1\n",
    "training_set['t2_en'] = prep2\n",
    "training_set['label'] = train['label']\n",
    "\n",
    "# Export processed dataset\n",
    "training_set.to_csv('preprocessed_dataset.csv', index = False)\n",
    "\n",
    "training_set.head()"
   ]
  },
  {
   "cell_type": "code",
   "execution_count": 57,
   "id": "4b1a52c3",
   "metadata": {},
   "outputs": [],
   "source": [
    "# Creating testing dataset\n",
    "\n",
    "test_col1 = test['title1_en']\n",
    "test_col2 = test['title2_en']\n",
    "\n",
    "prep_test1 = []\n",
    "for i in (range(len(test_col1))):\n",
    "    prep_test1.append(preprocessor(test_col1[i]))\n",
    "\n",
    "prep_test2 = []\n",
    "for i in (range(len(test_col2))):\n",
    "    prep_test2.append(preprocessor(test_col2[i]))"
   ]
  },
  {
   "cell_type": "code",
   "execution_count": 58,
   "id": "56f41a67",
   "metadata": {},
   "outputs": [
    {
     "data": {
      "text/html": [
       "<div>\n",
       "<style scoped>\n",
       "    .dataframe tbody tr th:only-of-type {\n",
       "        vertical-align: middle;\n",
       "    }\n",
       "\n",
       "    .dataframe tbody tr th {\n",
       "        vertical-align: top;\n",
       "    }\n",
       "\n",
       "    .dataframe thead th {\n",
       "        text-align: right;\n",
       "    }\n",
       "</style>\n",
       "<table border=\"1\" class=\"dataframe\">\n",
       "  <thead>\n",
       "    <tr style=\"text-align: right;\">\n",
       "      <th></th>\n",
       "      <th>id</th>\n",
       "      <th>t1_en</th>\n",
       "      <th>t2_en</th>\n",
       "    </tr>\n",
       "  </thead>\n",
       "  <tbody>\n",
       "    <tr>\n",
       "      <th>0</th>\n",
       "      <td>256442</td>\n",
       "      <td>the great coat brother zhu zhu wen in the man...</td>\n",
       "      <td>lin xinsheng after the birth of hard milking ...</td>\n",
       "    </tr>\n",
       "    <tr>\n",
       "      <th>1</th>\n",
       "      <td>256443</td>\n",
       "      <td>nasa reveals facts about ufo wreckage found o...</td>\n",
       "      <td>the ufo found in yuancun jiaocheng county sha...</td>\n",
       "    </tr>\n",
       "    <tr>\n",
       "      <th>2</th>\n",
       "      <td>256444</td>\n",
       "      <td>the hollow tomatoes are loaded with hormones</td>\n",
       "      <td>li chenfan bingbing home photos netizen this ...</td>\n",
       "    </tr>\n",
       "    <tr>\n",
       "      <th>3</th>\n",
       "      <td>256445</td>\n",
       "      <td>ange pavilion geoshui how accurate is matrimo...</td>\n",
       "      <td>master one the eight character presumption of...</td>\n",
       "    </tr>\n",
       "    <tr>\n",
       "      <th>4</th>\n",
       "      <td>256446</td>\n",
       "      <td>a 50 year old bus bus blows up an 8 year old ...</td>\n",
       "      <td>i joe johnson s disgruntled timing and order ...</td>\n",
       "    </tr>\n",
       "  </tbody>\n",
       "</table>\n",
       "</div>"
      ],
      "text/plain": [
       "       id                                              t1_en  \\\n",
       "0  256442   the great coat brother zhu zhu wen in the man...   \n",
       "1  256443   nasa reveals facts about ufo wreckage found o...   \n",
       "2  256444      the hollow tomatoes are loaded with hormones    \n",
       "3  256445   ange pavilion geoshui how accurate is matrimo...   \n",
       "4  256446   a 50 year old bus bus blows up an 8 year old ...   \n",
       "\n",
       "                                               t2_en  \n",
       "0   lin xinsheng after the birth of hard milking ...  \n",
       "1   the ufo found in yuancun jiaocheng county sha...  \n",
       "2   li chenfan bingbing home photos netizen this ...  \n",
       "3   master one the eight character presumption of...  \n",
       "4   i joe johnson s disgruntled timing and order ...  "
      ]
     },
     "execution_count": 58,
     "metadata": {},
     "output_type": "execute_result"
    }
   ],
   "source": [
    "# Create processed dataset \n",
    "\n",
    "testing_set = pd.DataFrame()\n",
    "testing_set['id'] = test['id']\n",
    "testing_set['t1_en'] = prep_test1\n",
    "testing_set['t2_en'] = prep_test2\n",
    "\n",
    "# Export processed dataset\n",
    "testing_set.to_csv('preprocessed_dataset_test.csv', index = False)\n",
    "\n",
    "testing_set.head()"
   ]
  },
  {
   "cell_type": "code",
   "execution_count": 62,
   "id": "0f7191f3",
   "metadata": {},
   "outputs": [],
   "source": [
    "from sklearn.naive_bayes import MultinomialNB\n",
    "from sklearn.metrics import accuracy_score\n",
    "\n",
    "from sklearn.feature_extraction.text import CountVectorizer\n",
    "from sklearn.feature_extraction.text import TfidfTransformer\n",
    "from sklearn.linear_model import LogisticRegression\n",
    "import csv\n",
    "from scipy import sparse\n",
    "\n",
    "from sklearn.metrics import pairwise_distances\n",
    "from sklearn.metrics.pairwise import euclidean_distances, cosine_similarity\n",
    "from sklearn.neural_network import MLPClassifier"
   ]
  },
  {
   "cell_type": "code",
   "execution_count": 60,
   "id": "1e97c4d5",
   "metadata": {},
   "outputs": [
    {
     "ename": "SyntaxError",
     "evalue": "invalid syntax (1927956493.py, line 1)",
     "output_type": "error",
     "traceback": [
      "\u001b[0;36m  Cell \u001b[0;32mIn [60], line 1\u001b[0;36m\u001b[0m\n\u001b[0;31m    pip install -U scikit-learn\u001b[0m\n\u001b[0m        ^\u001b[0m\n\u001b[0;31mSyntaxError\u001b[0m\u001b[0;31m:\u001b[0m invalid syntax\n"
     ]
    }
   ],
   "source": [
    "pip install -U scikit-learn\n",
    "\n"
   ]
  },
  {
   "cell_type": "code",
   "execution_count": 61,
   "id": "75084e19",
   "metadata": {},
   "outputs": [
    {
     "name": "stdout",
     "output_type": "stream",
     "text": [
      "Collecting scikit-learn\n",
      "  Downloading scikit_learn-1.2.2-cp310-cp310-macosx_12_0_arm64.whl (8.5 MB)\n",
      "\u001b[2K     \u001b[90m━━━━━━━━━━━━━━━━━━━━━━━━━━━━━━━━━━━━━━━━\u001b[0m \u001b[32m8.5/8.5 MB\u001b[0m \u001b[31m5.0 MB/s\u001b[0m eta \u001b[36m0:00:00\u001b[0m00:01\u001b[0m00:01\u001b[0m\n",
      "\u001b[?25hRequirement already satisfied: numpy>=1.17.3 in /Library/Frameworks/Python.framework/Versions/3.10/lib/python3.10/site-packages (from scikit-learn) (1.23.4)\n",
      "Requirement already satisfied: scipy>=1.3.2 in /Library/Frameworks/Python.framework/Versions/3.10/lib/python3.10/site-packages (from scikit-learn) (1.10.0)\n",
      "Requirement already satisfied: joblib>=1.1.1 in /Library/Frameworks/Python.framework/Versions/3.10/lib/python3.10/site-packages (from scikit-learn) (1.2.0)\n",
      "Collecting threadpoolctl>=2.0.0 (from scikit-learn)\n",
      "  Using cached threadpoolctl-3.1.0-py3-none-any.whl (14 kB)\n",
      "Installing collected packages: threadpoolctl, scikit-learn\n",
      "Successfully installed scikit-learn-1.2.2 threadpoolctl-3.1.0\n",
      "Note: you may need to restart the kernel to use updated packages.\n"
     ]
    }
   ],
   "source": [
    "pip install scikit-learn\n"
   ]
  },
  {
   "cell_type": "code",
   "execution_count": 63,
   "id": "ce3717f7",
   "metadata": {},
   "outputs": [],
   "source": [
    "# Vocabulary using all titles\n",
    "\n",
    "vectorizer = CountVectorizer()\n",
    "\n",
    "feature = training_set['t1_en'] + training_set['t2_en']\n",
    "train_counts = vectorizer.fit_transform(list(feature))\n",
    "vocab = (list(vectorizer.vocabulary_.keys()))\n",
    "\n",
    "vectorizer = CountVectorizer(vocabulary = vocab)\n",
    "transformer = TfidfTransformer()"
   ]
  },
  {
   "cell_type": "code",
   "execution_count": 64,
   "id": "323834cd",
   "metadata": {},
   "outputs": [],
   "source": [
    "# Separate feature lists\n",
    "\n",
    "title1_counts = vectorizer.fit_transform(list(prep1))\n",
    "title1_tf = transformer.fit_transform(title1_counts)\n",
    "\n",
    "title2_counts = vectorizer.fit_transform(list(prep2))\n",
    "title2_tf = transformer.fit_transform(title2_counts)\n",
    "\n",
    "features_final = sparse.hstack([title1_tf, title2_tf])"
   ]
  },
  {
   "cell_type": "code",
   "execution_count": 65,
   "id": "359c3330",
   "metadata": {},
   "outputs": [],
   "source": [
    "# Defining similarity function\n",
    "\n",
    "def cosine(trans):\n",
    "    return(cosine_similarity(trans[0], trans[1]))[0][0]"
   ]
  },
  {
   "cell_type": "code",
   "execution_count": 71,
   "id": "b4748b88",
   "metadata": {},
   "outputs": [],
   "source": [
    "# Defining similiary between the feature lists\n",
    "\n",
    "def feature_similarity(df, title1_counts, title2_counts):\n",
    "    count = len(df['t1_en'])\n",
    "    cos_similarities = []\n",
    "    \n",
    "    for i in (range(count)):\n",
    "        c = [title1_counts[i], title2_counts[i]]\n",
    "        cos_similarities.append(cosine(c))\n",
    "    \n",
    "    new_trained = pd.DataFrame()\n",
    "    new_trained['cos'] = cos_similarities\n",
    "    \n",
    "    return new_trained\n",
    "\n",
    "feature_train = feature_similarity(train_set, title1_counts, title2_counts)"
   ]
  },
  {
   "cell_type": "code",
   "execution_count": 72,
   "id": "ff3b8610",
   "metadata": {},
   "outputs": [],
   "source": [
    "trained_labels = training_set['label']"
   ]
  },
  {
   "cell_type": "code",
   "execution_count": 73,
   "id": "218ca0ee",
   "metadata": {},
   "outputs": [
    {
     "data": {
      "text/plain": [
       "0.6847474282683804"
      ]
     },
     "execution_count": 73,
     "metadata": {},
     "output_type": "execute_result"
    }
   ],
   "source": [
    "mnb = MultinomialNB()\n",
    "mnb.fit(feature_train, trained_labels)\n",
    "mnb_prediction = mnb.predict(feature_train)\n",
    "accuracy_score(mnb_prediction, trained_labels)"
   ]
  },
  {
   "cell_type": "code",
   "execution_count": 74,
   "id": "dd871c10",
   "metadata": {},
   "outputs": [
    {
     "data": {
      "text/plain": [
       "0.7502593178964444"
      ]
     },
     "execution_count": 74,
     "metadata": {},
     "output_type": "execute_result"
    }
   ],
   "source": [
    "lr = LogisticRegression(solver = 'saga', multi_class = 'multinomial')\n",
    "lr.fit(feature_train, trained_labels)\n",
    "lr.score(feature_trained, trained_labels)"
   ]
  },
  {
   "cell_type": "code",
   "execution_count": 75,
   "id": "eb400bb3",
   "metadata": {},
   "outputs": [],
   "source": [
    "count_test_title1 = vectorizer.fit_transform(list(prep_test1))\n",
    "tf_test_title1 = transformer.fit_transform(count_test_title1)\n",
    "\n",
    "count_test_title2 = vectorizer.fit_transform(list(prep_test2))\n",
    "tf_test_title2 = transformer.fit_transform(count_test_title2)\n",
    "\n",
    "test_feature_final = sparse.hstack([tf_test_title1, tf_test_title2])"
   ]
  },
  {
   "cell_type": "code",
   "execution_count": 76,
   "id": "f5137b7b",
   "metadata": {},
   "outputs": [
    {
     "data": {
      "text/html": [
       "<div>\n",
       "<style scoped>\n",
       "    .dataframe tbody tr th:only-of-type {\n",
       "        vertical-align: middle;\n",
       "    }\n",
       "\n",
       "    .dataframe tbody tr th {\n",
       "        vertical-align: top;\n",
       "    }\n",
       "\n",
       "    .dataframe thead th {\n",
       "        text-align: right;\n",
       "    }\n",
       "</style>\n",
       "<table border=\"1\" class=\"dataframe\">\n",
       "  <thead>\n",
       "    <tr style=\"text-align: right;\">\n",
       "      <th></th>\n",
       "      <th>cos</th>\n",
       "    </tr>\n",
       "  </thead>\n",
       "  <tbody>\n",
       "    <tr>\n",
       "      <th>0</th>\n",
       "      <td>0.290957</td>\n",
       "    </tr>\n",
       "    <tr>\n",
       "      <th>1</th>\n",
       "      <td>0.212132</td>\n",
       "    </tr>\n",
       "    <tr>\n",
       "      <th>2</th>\n",
       "      <td>0.000000</td>\n",
       "    </tr>\n",
       "    <tr>\n",
       "      <th>3</th>\n",
       "      <td>0.000000</td>\n",
       "    </tr>\n",
       "    <tr>\n",
       "      <th>4</th>\n",
       "      <td>0.000000</td>\n",
       "    </tr>\n",
       "    <tr>\n",
       "      <th>...</th>\n",
       "      <td>...</td>\n",
       "    </tr>\n",
       "    <tr>\n",
       "      <th>64105</th>\n",
       "      <td>0.322749</td>\n",
       "    </tr>\n",
       "    <tr>\n",
       "      <th>64106</th>\n",
       "      <td>0.806452</td>\n",
       "    </tr>\n",
       "    <tr>\n",
       "      <th>64107</th>\n",
       "      <td>0.628828</td>\n",
       "    </tr>\n",
       "    <tr>\n",
       "      <th>64108</th>\n",
       "      <td>0.139272</td>\n",
       "    </tr>\n",
       "    <tr>\n",
       "      <th>64109</th>\n",
       "      <td>0.263752</td>\n",
       "    </tr>\n",
       "  </tbody>\n",
       "</table>\n",
       "<p>64110 rows × 1 columns</p>\n",
       "</div>"
      ],
      "text/plain": [
       "            cos\n",
       "0      0.290957\n",
       "1      0.212132\n",
       "2      0.000000\n",
       "3      0.000000\n",
       "4      0.000000\n",
       "...         ...\n",
       "64105  0.322749\n",
       "64106  0.806452\n",
       "64107  0.628828\n",
       "64108  0.139272\n",
       "64109  0.263752\n",
       "\n",
       "[64110 rows x 1 columns]"
      ]
     },
     "execution_count": 76,
     "metadata": {},
     "output_type": "execute_result"
    }
   ],
   "source": [
    "tested_set = feature_similarity(testing_set, count_test_title1, count_test_title2)\n",
    "tested_set"
   ]
  },
  {
   "cell_type": "code",
   "execution_count": 77,
   "id": "c29cc92c",
   "metadata": {},
   "outputs": [
    {
     "data": {
      "text/plain": [
       "array(['unrelated', 'unrelated', 'unrelated', ..., 'agreed', 'unrelated',\n",
       "       'unrelated'], dtype=object)"
      ]
     },
     "execution_count": 77,
     "metadata": {},
     "output_type": "execute_result"
    }
   ],
   "source": [
    "prediction_testing = lr.predict(tested_set)\n",
    "prediction_testing"
   ]
  },
  {
   "cell_type": "code",
   "execution_count": 78,
   "id": "037ddebb",
   "metadata": {},
   "outputs": [
    {
     "data": {
      "text/html": [
       "<div>\n",
       "<style scoped>\n",
       "    .dataframe tbody tr th:only-of-type {\n",
       "        vertical-align: middle;\n",
       "    }\n",
       "\n",
       "    .dataframe tbody tr th {\n",
       "        vertical-align: top;\n",
       "    }\n",
       "\n",
       "    .dataframe thead th {\n",
       "        text-align: right;\n",
       "    }\n",
       "</style>\n",
       "<table border=\"1\" class=\"dataframe\">\n",
       "  <thead>\n",
       "    <tr style=\"text-align: right;\">\n",
       "      <th></th>\n",
       "      <th>id</th>\n",
       "      <th>label</th>\n",
       "    </tr>\n",
       "  </thead>\n",
       "  <tbody>\n",
       "    <tr>\n",
       "      <th>0</th>\n",
       "      <td>256442</td>\n",
       "      <td>unrelated</td>\n",
       "    </tr>\n",
       "    <tr>\n",
       "      <th>1</th>\n",
       "      <td>256443</td>\n",
       "      <td>unrelated</td>\n",
       "    </tr>\n",
       "    <tr>\n",
       "      <th>2</th>\n",
       "      <td>256444</td>\n",
       "      <td>unrelated</td>\n",
       "    </tr>\n",
       "    <tr>\n",
       "      <th>3</th>\n",
       "      <td>256445</td>\n",
       "      <td>unrelated</td>\n",
       "    </tr>\n",
       "    <tr>\n",
       "      <th>4</th>\n",
       "      <td>256446</td>\n",
       "      <td>unrelated</td>\n",
       "    </tr>\n",
       "  </tbody>\n",
       "</table>\n",
       "</div>"
      ],
      "text/plain": [
       "       id      label\n",
       "0  256442  unrelated\n",
       "1  256443  unrelated\n",
       "2  256444  unrelated\n",
       "3  256445  unrelated\n",
       "4  256446  unrelated"
      ]
     },
     "execution_count": 78,
     "metadata": {},
     "output_type": "execute_result"
    }
   ],
   "source": [
    "submission = pd.DataFrame()\n",
    "submission['id'] = testing_set['id']\n",
    "submission['label'] = prediction_testing\n",
    "submission.head()"
   ]
  },
  {
   "cell_type": "code",
   "execution_count": 79,
   "id": "1196859b",
   "metadata": {},
   "outputs": [],
   "source": [
    "submission.to_csv('submission.csv', index = False)"
   ]
  },
  {
   "cell_type": "code",
   "execution_count": 80,
   "id": "823711ff",
   "metadata": {},
   "outputs": [
    {
     "data": {
      "image/png": "[encoded data removed]",
      "text/plain": [
       "<Figure size 640x480 with 1 Axes>"
      ]
     },
     "metadata": {},
     "output_type": "display_data"
    }
   ],
   "source": [
    "train['label'].value_counts().plot.bar();"
   ]
  },
  {
   "cell_type": "code",
   "execution_count": 81,
   "id": "9945996f",
   "metadata": {},
   "outputs": [
    {
     "data": {
      "image/png": "[encoded data removed]",
      "text/plain": [
       "<Figure size 640x480 with 1 Axes>"
      ]
     },
     "metadata": {},
     "output_type": "display_data"
    }
   ],
   "source": [
    "submission['label'].value_counts().plot.bar();"
   ]
  },
  {
   "cell_type": "code",
   "execution_count": null,
   "id": "e509cd5f",
   "metadata": {},
   "outputs": [],
   "source": []
  }
 ],
 "metadata": {
  "kernelspec": {
   "display_name": "Python 3.10.1 64-bit",
   "language": "python",
   "name": "python3101jvsc74a57bd0aee8b7b246df8f9039afb4144a1f6fd8d2ca17a180786b69acc140d282b71a49"
  },
  "language_info": {
   "codemirror_mode": {
    "name": "ipython",
    "version": 3
   },
   "file_extension": ".py",
   "mimetype": "text/x-python",
   "name": "python",
   "nbconvert_exporter": "python",
   "pygments_lexer": "ipython3",
   "version": "3.10.1"
  }
 },
 "nbformat": 4,
 "nbformat_minor": 5
}
